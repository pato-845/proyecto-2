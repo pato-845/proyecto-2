{
  "nbformat": 4,
  "nbformat_minor": 0,
  "metadata": {
    "colab": {
      "provenance": []
    },
    "kernelspec": {
      "name": "python3",
      "display_name": "Python 3"
    },
    "language_info": {
      "name": "python"
    }
  },
  "cells": [
    {
      "cell_type": "code",
      "execution_count": null,
      "metadata": {
        "colab": {
          "base_uri": "https://localhost:8080/"
        },
        "id": "Ps028M2hqyWf",
        "outputId": "9e02887b-c9ca-4d42-f70c-0d4a6e5412d9"
      },
      "outputs": [
        {
          "output_type": "stream",
          "name": "stdout",
          "text": [
            "¿Cómo sobrevivir una noche en una casa embrujada?\n",
            " \n",
            "Esconderse\n",
            "Funciona,¿si o no?\n",
            "No\n",
            "Correr y explorar\n",
            "¿Encontró armas?\n",
            "No\n",
            "Huye\n",
            "¿Funciono?\n",
            "No\n",
            "¡Murio! :(\n"
          ]
        }
      ],
      "source": [
        "#Pasar la noche en una casa embrujada\n",
        "\n",
        "print(\"¿Cómo sobrevivir una noche en una casa embrujada?\")\n",
        "print(\" \")\n",
        "print(\"Esconderse\")\n",
        "print(\"Funciona,¿si o no?\")\n",
        "\n",
        "a=input();\n",
        "\n",
        "if a =='si':\n",
        "    print(\"Quedarse en el mismo lugar\")\n",
        "    print(\"¡sobrevivió! :D\")\n",
        "else:\n",
        "  print(\"Correr y explorar\")\n",
        "  print(\"¿Encontró armas?\")\n",
        "  a=input();\n",
        "\n",
        "  if a =='si':\n",
        "    print(\"Defenderse\")\n",
        "    print(\"¿Funciono?\")\n",
        "    if input() =='si':\n",
        "      print(\"¡sobrevivió :D!\")\n",
        "    else:\n",
        "      print(\"¡Murio! :(\")\n",
        "\n",
        "  else:\n",
        "    print(\"Huye\")\n",
        "    print(\"¿Funciono?\")\n",
        "    a=input();\n",
        "    if a =='si':\n",
        "      print(\"¡sobrevivió :D!\")\n",
        "    else:\n",
        "      print(\"¡Murio! :(\")"
      ]
    }
  ]
}